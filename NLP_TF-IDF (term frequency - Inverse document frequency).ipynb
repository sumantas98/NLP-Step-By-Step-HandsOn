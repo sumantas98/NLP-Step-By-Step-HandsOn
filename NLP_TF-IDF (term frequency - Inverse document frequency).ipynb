{
 "cells": [
  {
   "cell_type": "code",
   "execution_count": 1,
   "metadata": {},
   "outputs": [],
   "source": [
    "import re\n",
    "import nltk\n",
    "from nltk.corpus import stopwords\n",
    "from nltk.stem import PorterStemmer\n",
    "from nltk.stem import WordNetLemmatizer"
   ]
  },
  {
   "cell_type": "code",
   "execution_count": 2,
   "metadata": {},
   "outputs": [],
   "source": [
    "#nltk.download()"
   ]
  },
  {
   "cell_type": "code",
   "execution_count": 3,
   "metadata": {},
   "outputs": [],
   "source": [
    "paragraph = \"\"\"While delivering a lecture at the Indian Institute of Management Shillong,Kalam collapsed and died from an apparent cardiac arrest on 27 July 2015, aged 83. Thousands, including national-level dignitaries, attended the funeral ceremony held\n",
    "in his hometown of Rameswaram, where he was buried with full state honours.\"\"\""
   ]
  },
  {
   "cell_type": "code",
   "execution_count": 4,
   "metadata": {},
   "outputs": [
    {
     "data": {
      "text/plain": [
       "'While delivering a lecture at the Indian Institute of Management Shillong,Kalam collapsed and died from an apparent cardiac arrest on 27 July 2015, aged 83. Thousands, including national-level dignitaries, attended the funeral ceremony held\\nin his hometown of Rameswaram, where he was buried with full state honours.'"
      ]
     },
     "execution_count": 4,
     "metadata": {},
     "output_type": "execute_result"
    }
   ],
   "source": [
    "paragraph"
   ]
  },
  {
   "cell_type": "code",
   "execution_count": 5,
   "metadata": {},
   "outputs": [],
   "source": [
    "## Cleaning the texts using Lemmatization operation\n",
    "## stopwords.words('english')\n",
    "#ps = PorterStemmer()\n",
    "wnl = WordNetLemmatizer()\n",
    "sentence_token = nltk.sent_tokenize(paragraph)\n",
    "corpus1=[]\n",
    "for i in range(len(sentence_token)):\n",
    "    review = re.sub('[^a-zA-Z]',' ',sentence_token[i])\n",
    "    review = review.lower()\n",
    "    review = review.split()\n",
    "    review = [wnl.lemmatize(word) for word in review if word not in set(stopwords.words('english'))]\n",
    "    review = ' '.join(review)\n",
    "    corpus1.append(review)"
   ]
  },
  {
   "cell_type": "code",
   "execution_count": 6,
   "metadata": {},
   "outputs": [
    {
     "data": {
      "text/plain": [
       "['delivering lecture indian institute management shillong kalam collapsed died apparent cardiac arrest july aged',\n",
       " 'thousand including national level dignitary attended funeral ceremony held hometown rameswaram buried full state honour']"
      ]
     },
     "execution_count": 6,
     "metadata": {},
     "output_type": "execute_result"
    }
   ],
   "source": [
    "corpus1"
   ]
  },
  {
   "cell_type": "code",
   "execution_count": 7,
   "metadata": {},
   "outputs": [],
   "source": [
    "from sklearn.feature_extraction.text import TfidfVectorizer,CountVectorizer"
   ]
  },
  {
   "cell_type": "code",
   "execution_count": 10,
   "metadata": {},
   "outputs": [],
   "source": [
    "# creating TF-IDF model\n",
    "cv = TfidfVectorizer()\n",
    "x  = cv.fit_transform(corpus1).toarray()"
   ]
  },
  {
   "cell_type": "code",
   "execution_count": 11,
   "metadata": {},
   "outputs": [
    {
     "data": {
      "text/plain": [
       "array([[0.26726124, 0.26726124, 0.26726124, 0.        , 0.        ,\n",
       "        0.26726124, 0.        , 0.26726124, 0.26726124, 0.26726124,\n",
       "        0.        , 0.        , 0.        , 0.        , 0.        ,\n",
       "        0.        , 0.        , 0.26726124, 0.26726124, 0.26726124,\n",
       "        0.26726124, 0.26726124, 0.        , 0.26726124, 0.        ,\n",
       "        0.        , 0.26726124, 0.        , 0.        ],\n",
       "       [0.        , 0.        , 0.        , 0.25819889, 0.25819889,\n",
       "        0.        , 0.25819889, 0.        , 0.        , 0.        ,\n",
       "        0.25819889, 0.25819889, 0.25819889, 0.25819889, 0.25819889,\n",
       "        0.25819889, 0.25819889, 0.        , 0.        , 0.        ,\n",
       "        0.        , 0.        , 0.25819889, 0.        , 0.25819889,\n",
       "        0.25819889, 0.        , 0.25819889, 0.25819889]])"
      ]
     },
     "execution_count": 11,
     "metadata": {},
     "output_type": "execute_result"
    }
   ],
   "source": [
    "x"
   ]
  },
  {
   "cell_type": "code",
   "execution_count": null,
   "metadata": {},
   "outputs": [],
   "source": []
  }
 ],
 "metadata": {
  "kernelspec": {
   "display_name": "Python 3",
   "language": "python",
   "name": "python3"
  },
  "language_info": {
   "codemirror_mode": {
    "name": "ipython",
    "version": 3
   },
   "file_extension": ".py",
   "mimetype": "text/x-python",
   "name": "python",
   "nbconvert_exporter": "python",
   "pygments_lexer": "ipython3",
   "version": "3.8.3"
  }
 },
 "nbformat": 4,
 "nbformat_minor": 4
}
